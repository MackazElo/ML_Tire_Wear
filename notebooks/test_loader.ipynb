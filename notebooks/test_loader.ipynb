{
 "cells": [
  {
   "cell_type": "code",
   "execution_count": 7,
   "metadata": {},
   "outputs": [
    {
     "name": "stdout",
     "output_type": "stream",
     "text": [
      "Batch shape: torch.Size([8, 3, 224, 224])\n",
      "Labels: tensor([1, 0, 1, 1, 0, 0, 1, 1])\n",
      "Output shape: torch.Size([8, 2])\n"
     ]
    }
   ],
   "source": [
    "import sys\n",
    "import os\n",
    "sys.path.append(os.path.abspath(\"../src\"))  # jeśli jesteś w notebooks/\n",
    "\n",
    "\n",
    "import torch\n",
    "from data_loader import get_data_loaders\n",
    "from model import get_model\n",
    "\n",
    "# Ścieżka do folderu z danymi\n",
    "data_path = \"../data\"\n",
    "\n",
    "# Parametry\n",
    "batch_size = 8\n",
    "num_classes = 2\n",
    "device = torch.device(\"cuda\" if torch.cuda.is_available() else \"cpu\")\n",
    "\n",
    "# Wczytaj dane\n",
    "loaders = get_data_loaders(data_path, batch_size=batch_size, augment=True)\n",
    "\n",
    "# Sprawdź dane\n",
    "for images, labels in loaders['train']:\n",
    "    print(f\"Batch shape: {images.shape}\")\n",
    "    print(f\"Labels: {labels}\")\n",
    "    break  # tylko jedna partia\n",
    "\n",
    "# Załaduj model\n",
    "model = get_model(num_classes=num_classes)\n",
    "model = model.to(device)\n",
    "\n",
    "# Przepuść dane przez model\n",
    "images = images.to(device)\n",
    "outputs = model(images)\n",
    "print(f\"Output shape: {outputs.shape}\")  # powinno być [batch_size, num_classes]\n"
   ]
  },
  {
   "cell_type": "code",
   "execution_count": null,
   "metadata": {},
   "outputs": [],
   "source": []
  }
 ],
 "metadata": {
  "kernelspec": {
   "display_name": "Python 3",
   "language": "python",
   "name": "python3"
  },
  "language_info": {
   "codemirror_mode": {
    "name": "ipython",
    "version": 3
   },
   "file_extension": ".py",
   "mimetype": "text/x-python",
   "name": "python",
   "nbconvert_exporter": "python",
   "pygments_lexer": "ipython3",
   "version": "3.11.9"
  }
 },
 "nbformat": 4,
 "nbformat_minor": 2
}
